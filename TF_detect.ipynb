{
 "cells": [
  {
   "cell_type": "code",
   "execution_count": 138,
   "id": "fb56bf63",
   "metadata": {},
   "outputs": [],
   "source": [
    "import re\n",
    "import pandas as pd"
   ]
  },
  {
   "cell_type": "code",
   "execution_count": 139,
   "id": "d52d0160",
   "metadata": {},
   "outputs": [],
   "source": [
    "JN_codes = pd.read_csv('JNdata/Kaggle_data.csv')"
   ]
  },
  {
   "cell_type": "code",
   "execution_count": 151,
   "id": "1bdcc368",
   "metadata": {},
   "outputs": [
    {
     "name": "stdout",
     "output_type": "stream",
     "text": [
      "percentage of non aliasing tf:  0.9829009433962265\n"
     ]
    }
   ],
   "source": [
    "TF_codes1 = JN_codes[JN_codes['source'].str.lower().str.contains('import tensorflow as tf')== True]\n",
    "TF_codes2 = JN_codes[JN_codes['source'].str.lower().str.contains('import tensorflow')== True]\n",
    "print('percentage of non aliasing tf: ',len(TF_codes1)/len(TF_codes2))"
   ]
  },
  {
   "cell_type": "code",
   "execution_count": 146,
   "id": "5ffcab44",
   "metadata": {},
   "outputs": [],
   "source": [
    "TF_codes = JN_codes[JN_codes['source'].str.lower().str.contains('tf\\..*.\\(') == True]"
   ]
  },
  {
   "cell_type": "code",
   "execution_count": 141,
   "id": "8fa7e4bb",
   "metadata": {
    "scrolled": true
   },
   "outputs": [
    {
     "data": {
      "text/html": [
       "<div>\n",
       "<style scoped>\n",
       "    .dataframe tbody tr th:only-of-type {\n",
       "        vertical-align: middle;\n",
       "    }\n",
       "\n",
       "    .dataframe tbody tr th {\n",
       "        vertical-align: top;\n",
       "    }\n",
       "\n",
       "    .dataframe thead th {\n",
       "        text-align: right;\n",
       "    }\n",
       "</style>\n",
       "<table border=\"1\" class=\"dataframe\">\n",
       "  <thead>\n",
       "    <tr style=\"text-align: right;\">\n",
       "      <th></th>\n",
       "      <th>Unnamed: 0</th>\n",
       "      <th>project_name</th>\n",
       "      <th>cell_index</th>\n",
       "      <th>execution_count</th>\n",
       "      <th>source</th>\n",
       "    </tr>\n",
       "  </thead>\n",
       "  <tbody>\n",
       "    <tr>\n",
       "      <th>784</th>\n",
       "      <td>784</td>\n",
       "      <td>kakauandme_tensorflow-deep-nn</td>\n",
       "      <td>20</td>\n",
       "      <td>NaN</td>\n",
       "      <td># weight initialization\\ndef weight_variable(s...</td>\n",
       "    </tr>\n",
       "    <tr>\n",
       "      <th>785</th>\n",
       "      <td>785</td>\n",
       "      <td>kakauandme_tensorflow-deep-nn</td>\n",
       "      <td>22</td>\n",
       "      <td>NaN</td>\n",
       "      <td># convolution\\ndef conv2d(x, W):\\n    return t...</td>\n",
       "    </tr>\n",
       "    <tr>\n",
       "      <th>786</th>\n",
       "      <td>786</td>\n",
       "      <td>kakauandme_tensorflow-deep-nn</td>\n",
       "      <td>24</td>\n",
       "      <td>NaN</td>\n",
       "      <td># pooling\\n# [[0,3],\\n#  [4,2]] =&gt; 4\\n\\n# [[0,...</td>\n",
       "    </tr>\n",
       "    <tr>\n",
       "      <th>787</th>\n",
       "      <td>787</td>\n",
       "      <td>kakauandme_tensorflow-deep-nn</td>\n",
       "      <td>26</td>\n",
       "      <td>NaN</td>\n",
       "      <td># input &amp; output of NN\\n\\n# images\\nx = tf.pla...</td>\n",
       "    </tr>\n",
       "    <tr>\n",
       "      <th>788</th>\n",
       "      <td>788</td>\n",
       "      <td>kakauandme_tensorflow-deep-nn</td>\n",
       "      <td>28</td>\n",
       "      <td>NaN</td>\n",
       "      <td># first convolutional layer\\nW_conv1 = weight_...</td>\n",
       "    </tr>\n",
       "    <tr>\n",
       "      <th>...</th>\n",
       "      <td>...</td>\n",
       "      <td>...</td>\n",
       "      <td>...</td>\n",
       "      <td>...</td>\n",
       "      <td>...</td>\n",
       "    </tr>\n",
       "    <tr>\n",
       "      <th>443527</th>\n",
       "      <td>443527</td>\n",
       "      <td>sereger_titanic-nn</td>\n",
       "      <td>9</td>\n",
       "      <td>NaN</td>\n",
       "      <td>X = tf.placeholder(tf.float32, shape=(None, n_...</td>\n",
       "    </tr>\n",
       "    <tr>\n",
       "      <th>443528</th>\n",
       "      <td>443528</td>\n",
       "      <td>sereger_titanic-nn</td>\n",
       "      <td>10</td>\n",
       "      <td>NaN</td>\n",
       "      <td>n_epochs = 200\\nbatch_size = 50\\nsubbatch_size...</td>\n",
       "    </tr>\n",
       "    <tr>\n",
       "      <th>443529</th>\n",
       "      <td>443529</td>\n",
       "      <td>sereger_titanic-nn</td>\n",
       "      <td>11</td>\n",
       "      <td>NaN</td>\n",
       "      <td>with tf.Session() as sess:\\n    saver.restore(...</td>\n",
       "    </tr>\n",
       "    <tr>\n",
       "      <th>447613</th>\n",
       "      <td>447613</td>\n",
       "      <td>nocturnaltribe_newyork-city-taxi-fare-prediction</td>\n",
       "      <td>96</td>\n",
       "      <td>NaN</td>\n",
       "      <td># import sklearn.pipeline\\n# scaler = sklearn....</td>\n",
       "    </tr>\n",
       "    <tr>\n",
       "      <th>447659</th>\n",
       "      <td>447659</td>\n",
       "      <td>nocturnaltribe_newyork-city-taxi-fare-prediction</td>\n",
       "      <td>153</td>\n",
       "      <td>NaN</td>\n",
       "      <td># import sklearn.pipeline\\n# scaler = sklearn....</td>\n",
       "    </tr>\n",
       "  </tbody>\n",
       "</table>\n",
       "<p>5831 rows × 5 columns</p>\n",
       "</div>"
      ],
      "text/plain": [
       "        Unnamed: 0                                      project_name  \\\n",
       "784            784                     kakauandme_tensorflow-deep-nn   \n",
       "785            785                     kakauandme_tensorflow-deep-nn   \n",
       "786            786                     kakauandme_tensorflow-deep-nn   \n",
       "787            787                     kakauandme_tensorflow-deep-nn   \n",
       "788            788                     kakauandme_tensorflow-deep-nn   \n",
       "...            ...                                               ...   \n",
       "443527      443527                                sereger_titanic-nn   \n",
       "443528      443528                                sereger_titanic-nn   \n",
       "443529      443529                                sereger_titanic-nn   \n",
       "447613      447613  nocturnaltribe_newyork-city-taxi-fare-prediction   \n",
       "447659      447659  nocturnaltribe_newyork-city-taxi-fare-prediction   \n",
       "\n",
       "        cell_index  execution_count  \\\n",
       "784             20              NaN   \n",
       "785             22              NaN   \n",
       "786             24              NaN   \n",
       "787             26              NaN   \n",
       "788             28              NaN   \n",
       "...            ...              ...   \n",
       "443527           9              NaN   \n",
       "443528          10              NaN   \n",
       "443529          11              NaN   \n",
       "447613          96              NaN   \n",
       "447659         153              NaN   \n",
       "\n",
       "                                                   source  \n",
       "784     # weight initialization\\ndef weight_variable(s...  \n",
       "785     # convolution\\ndef conv2d(x, W):\\n    return t...  \n",
       "786     # pooling\\n# [[0,3],\\n#  [4,2]] => 4\\n\\n# [[0,...  \n",
       "787     # input & output of NN\\n\\n# images\\nx = tf.pla...  \n",
       "788     # first convolutional layer\\nW_conv1 = weight_...  \n",
       "...                                                   ...  \n",
       "443527  X = tf.placeholder(tf.float32, shape=(None, n_...  \n",
       "443528  n_epochs = 200\\nbatch_size = 50\\nsubbatch_size...  \n",
       "443529  with tf.Session() as sess:\\n    saver.restore(...  \n",
       "447613  # import sklearn.pipeline\\n# scaler = sklearn....  \n",
       "447659  # import sklearn.pipeline\\n# scaler = sklearn....  \n",
       "\n",
       "[5831 rows x 5 columns]"
      ]
     },
     "execution_count": 141,
     "metadata": {},
     "output_type": "execute_result"
    }
   ],
   "source": [
    "TF_codes#.values"
   ]
  }
 ],
 "metadata": {
  "kernelspec": {
   "display_name": "Python 3",
   "language": "python",
   "name": "python3"
  },
  "language_info": {
   "codemirror_mode": {
    "name": "ipython",
    "version": 3
   },
   "file_extension": ".py",
   "mimetype": "text/x-python",
   "name": "python",
   "nbconvert_exporter": "python",
   "pygments_lexer": "ipython3",
   "version": "3.8.8"
  }
 },
 "nbformat": 4,
 "nbformat_minor": 5
}
