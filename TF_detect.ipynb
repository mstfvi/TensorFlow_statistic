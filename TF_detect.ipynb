{
 "cells": [
  {
   "cell_type": "code",
   "execution_count": 1,
   "id": "fb56bf63",
   "metadata": {},
   "outputs": [],
   "source": [
    "import re\n",
    "import pandas as pd"
   ]
  },
  {
   "cell_type": "code",
   "execution_count": 2,
   "id": "d52d0160",
   "metadata": {},
   "outputs": [],
   "source": [
    "JN_codes = pd.read_csv('JNdata/Kaggle_data.csv')"
   ]
  },
  {
   "cell_type": "code",
   "execution_count": 3,
   "id": "1bdcc368",
   "metadata": {},
   "outputs": [
    {
     "name": "stdout",
     "output_type": "stream",
     "text": [
      "percentage of non aliasing tf:  0.9829009433962265\n"
     ]
    }
   ],
   "source": [
    "TF_codes1 = JN_codes[JN_codes['source'].str.lower().str.contains('import tensorflow as tf')== True]\n",
    "TF_codes2 = JN_codes[JN_codes['source'].str.lower().str.contains('import tensorflow')== True]\n",
    "print('percentage of non aliasing tf: ',len(TF_codes1)/len(TF_codes2))"
   ]
  },
  {
   "cell_type": "code",
   "execution_count": 4,
   "id": "5ffcab44",
   "metadata": {},
   "outputs": [],
   "source": [
    "TF_codes = JN_codes[JN_codes['source'].str.lower().str.contains('tf\\..*.\\(') == True]"
   ]
  },
  {
   "cell_type": "code",
   "execution_count": 106,
   "id": "dfc30a63",
   "metadata": {},
   "outputs": [],
   "source": [
    "methods = {}\n",
    "\n",
    "for i in range(len(code_cell)):\n",
    "    code_cell = TF_codes['source'].values[i]\n",
    "    #print(code_cell)\n",
    "    tf_calls = re.findall('tf.*', code_cell)\n",
    "    for t in tf_calls:\n",
    "        r1= re.sub('\\(','( ',t)\n",
    "        #print(r1)\n",
    "        r2 = re.sub('\\(','( ',r1)\n",
    "        #print(r2)\n",
    "        r3 = re.findall('(tf\\.+[\\w\\.]+)\\(\\s',r2)\n",
    "        for m in r3:\n",
    "            if m in methods:\n",
    "                methods[m] += 1\n",
    "            else:\n",
    "                methods[m] = 1\n",
    "        \n"
   ]
  },
  {
   "cell_type": "code",
   "execution_count": 112,
   "id": "ff052743",
   "metadata": {},
   "outputs": [
    {
     "name": "stdout",
     "output_type": "stream",
     "text": [
      "[('tf.Variable', 98), ('tf.reshape', 98), ('tf.placeholder', 76), ('tf.nn.relu', 76), ('tf.matmul', 75), ('tf.argmax', 67), ('tf.nn.softmax', 35), ('tf.truncated_normal', 32), ('tf.transpose', 30), ('tf.zeros', 30), ('tf.constant', 28), ('tf.reduce_mean', 28), ('tf.initialize_all_variables', 28), ('tf.equal', 24), ('tf.cast', 24), ('tf.nn.dropout', 22), ('tf.nn.conv2d', 21), ('tf.nn.max_pool', 21), ('tf.reduce_sum', 20), ('tf.log', 20), ('tf.train.AdamOptimizer', 19), ('tf.InteractiveSession', 18), ('tf.Session', 17), ('tf.random_normal', 14), ('tf.train.GradientDescentOptimizer', 13), ('tf.add', 10), ('tf.nn.softmax_cross_entropy_with_logits', 8), ('tf.nn.l2_loss', 8), ('tf.name_scope', 6), ('tf.fit_transform', 6), ('tf.get_feature_names', 6), ('tf.Graph', 4), ('tf.histogram_summary', 4), ('tf.train.exponential_decay', 2), ('tf.scalar_summary', 2), ('tf.train.Saver', 2), ('tf.train.AdagradOptimizer', 1), ('tf.confusion_matrix', 1), ('tf.ConfigProto', 1), ('tf.train.write_graph', 1), ('tf.merge_all_summaries', 1), ('tf.train.SummaryWriter', 1), ('tf.reset_default_graph', 1), ('tf.train.string_input_producer', 1), ('tf.TextLineReader', 1), ('tf.decode_csv', 1), ('tf.pack', 1), ('tf.train.Coordinator', 1), ('tf.train.start_queue_runners', 1)]\n"
     ]
    }
   ],
   "source": [
    "FUF = sorted(methods.items(), key=lambda x:x[1], reverse= True)\n",
    "FUF_dict = dict(methods)\n",
    "print(FUF)"
   ]
  },
  {
   "cell_type": "code",
   "execution_count": null,
   "id": "be34a6d6",
   "metadata": {},
   "outputs": [],
   "source": [
    "mport json\n",
    "json.dump( FUF_dict, open( \"FUF_dict.json\", 'w' ) )"
   ]
  }
 ],
 "metadata": {
  "kernelspec": {
   "display_name": "Python 3",
   "language": "python",
   "name": "python3"
  },
  "language_info": {
   "codemirror_mode": {
    "name": "ipython",
    "version": 3
   },
   "file_extension": ".py",
   "mimetype": "text/x-python",
   "name": "python",
   "nbconvert_exporter": "python",
   "pygments_lexer": "ipython3",
   "version": "3.8.8"
  }
 },
 "nbformat": 4,
 "nbformat_minor": 5
}
