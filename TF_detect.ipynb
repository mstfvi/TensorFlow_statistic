{
 "cells": [
  {
   "cell_type": "code",
   "execution_count": 1,
   "id": "fb56bf63",
   "metadata": {},
   "outputs": [],
   "source": [
    "import re\n",
    "import pandas as pd"
   ]
  },
  {
   "cell_type": "code",
   "execution_count": 2,
   "id": "d52d0160",
   "metadata": {},
   "outputs": [],
   "source": [
    "JN_codes = pd.read_csv('JNdata/Kaggle_data.csv')"
   ]
  },
  {
   "cell_type": "code",
   "execution_count": 3,
   "id": "1bdcc368",
   "metadata": {},
   "outputs": [
    {
     "name": "stdout",
     "output_type": "stream",
     "text": [
      "percentage of non aliasing tf:  0.9829009433962265\n"
     ]
    }
   ],
   "source": [
    "TF_codes1 = JN_codes[JN_codes['source'].str.lower().str.contains('import tensorflow as tf')== True]\n",
    "TF_codes2 = JN_codes[JN_codes['source'].str.lower().str.contains('import tensorflow')== True]\n",
    "print('percentage of non aliasing tf: ',len(TF_codes1)/len(TF_codes2))"
   ]
  },
  {
   "cell_type": "code",
   "execution_count": 4,
   "id": "5ffcab44",
   "metadata": {},
   "outputs": [],
   "source": [
    "TF_codes = JN_codes[JN_codes['source'].str.lower().str.contains('tf\\..*.\\(') == True]"
   ]
  },
  {
   "cell_type": "code",
   "execution_count": 8,
   "id": "8fa7e4bb",
   "metadata": {
    "scrolled": false
   },
   "outputs": [
    {
     "data": {
      "text/plain": [
       "array([784, 'kakauandme_tensorflow-deep-nn',\n",
       "       '# weight initialization\\ndef weight_variable(shape):\\n    initial = tf.truncated_normal(shape, stddev=0.1)\\n    return tf.Variable(initial)\\n\\ndef bias_variable(shape):\\n    initial = tf.constant(0.1, shape=shape)\\n    return tf.Variable(initial)'],\n",
       "      dtype=object)"
      ]
     },
     "execution_count": 8,
     "metadata": {},
     "output_type": "execute_result"
    }
   ],
   "source": [
    "TF_codes.values[0]"
   ]
  },
  {
   "cell_type": "code",
   "execution_count": 145,
   "id": "62628394",
   "metadata": {},
   "outputs": [
    {
     "name": "stdout",
     "output_type": "stream",
     "text": [
      "tf.truncated_normal(shape, stddev=00)\n",
      " truncated_normal(shape, stddev=00)\n",
      "tf.Variable(initial)\n",
      " Variable(initial)\n",
      "tf.constant(00, shape=shape)\n",
      " constant(00, shape=shape)\n",
      "tf.Variable(initial)\n",
      " Variable(initial)\n",
      "tf.nn.conv2d(x, W, strides=[1, 1, 1, 1], padding='SAME')\n",
      " conv2d(x, W, strides=[1, 1, 1, 1], padding='SAME')\n",
      "tf.nn.max_pool(x, ksize=[1, 2, 2, 1], strides=[1, 2, 2, 1], padding='SAME')\n",
      " max_pool(x, ksize=[1, 2, 2, 1], strides=[1, 2, 2, 1], padding='SAME')\n",
      "tf.placeholder('float', shape=[None, image_size])\n",
      " placeholder('float', shape=[None, image_size])\n",
      "tf.placeholder('float', shape=[None, labels_count])\n",
      " placeholder('float', shape=[None, labels_count])\n",
      "tf.reshape(x, [-1,image_width , image_height,1])\n",
      " reshape(x, [-1,image_width , image_height,1])\n",
      "tf.nn.relu(conv2d(image, W_conv1) + b_conv1)\n",
      " relu(conv2d(image, W_conv1) + b_conv1)\n",
      "tf.reshape(h_conv1, (-1, image_height, image_width, 4 ,8))  \n",
      " reshape(h_conv1, (-1, image_height, image_width, 4 ,8))  \n",
      "tf.transpose(layer1, (0, 3, 1, 4,2))\n",
      " transpose(layer1, (0, 3, 1, 4,2))\n",
      "tf.reshape(layer1, (-1, image_height*4, image_width*8)) \n",
      " reshape(layer1, (-1, image_height*4, image_width*8)) \n",
      "tf.nn.relu(conv2d(h_pool1, W_conv2) + b_conv2)\n",
      " relu(conv2d(h_pool1, W_conv2) + b_conv2)\n",
      "tf.reshape(h_conv2, (-1, 14, 14, 4 ,16))  \n",
      " reshape(h_conv2, (-1, 14, 14, 4 ,16))  \n",
      "tf.transpose(layer2, (0, 3, 1, 4,2))\n",
      " transpose(layer2, (0, 3, 1, 4,2))\n",
      "tf.reshape(layer2, (-1, 14*4, 14*16)) \n",
      " reshape(layer2, (-1, 14*4, 14*16)) \n",
      "tf.reshape(h_pool2, [-1, 7*7*64])\n",
      " reshape(h_pool2, [-1, 7*7*64])\n",
      "tf.nn.relu(tf.matmul(h_pool2_flat, W_fc1) + b_fc1)\n",
      " matmul(h_pool2_flat, W_fc1) + b_fc1)\n",
      "tf.placeholder('float')\n",
      " placeholder('float')\n",
      "tf.nn.dropout(h_fc1, keep_prob)\n",
      " dropout(h_fc1, keep_prob)\n",
      "tf.nn.softmax(tf.matmul(h_fc1_drop, W_fc2) + b_fc2)\n",
      " matmul(h_fc1_drop, W_fc2) + b_fc2)\n",
      "tf.reduce_sum(y_*tf.log(y))\n",
      " log(y))\n",
      "tf.train.AdamOptimizer(LEARNING_RATE).minimize(cross_entropy)\n",
      " minimize(cross_entropy)\n",
      "tf.equal(tf.argmax(y,1), tf.argmax(y_,1))\n",
      " argmax(y_,1))\n",
      "tf.reduce_mean(tf.cast(correct_prediction, 'float'))\n",
      " cast(correct_prediction, 'float'))\n",
      "tf.argmax(y,1)\n",
      " argmax(y,1)\n",
      "tf.initialize_all_variables()\n",
      " initialize_all_variables()\n",
      "tf.InteractiveSession()\n",
      " InteractiveSession()\n",
      "tf\n",
      "tf\n",
      "tf.truncated_normal(shape, stddev=00)\n",
      " truncated_normal(shape, stddev=00)\n",
      "tf.Variable(initial)\n",
      " Variable(initial)\n",
      "tf.constant(00, shape=shape)\n",
      " constant(00, shape=shape)\n",
      "tf.Variable(initial)\n",
      " Variable(initial)\n",
      "tf.nn.conv2d(x, W, strides=[1, 1, 1, 1], padding='SAME')\n",
      " conv2d(x, W, strides=[1, 1, 1, 1], padding='SAME')\n",
      "tf.nn.max_pool(x, ksize=[1, 2, 2, 1], strides=[1, 2, 2, 1], padding='SAME')\n",
      " max_pool(x, ksize=[1, 2, 2, 1], strides=[1, 2, 2, 1], padding='SAME')\n",
      "tf.truncated_normal([5,20],stddev=00)\n",
      " truncated_normal([5,20],stddev=00)\n",
      "tf.constant(00, shape=[5,20])\n",
      " constant(00, shape=[5,20])\n",
      "tf.placeholder(\"float\", shape=[None, 784])\n",
      " placeholder(\"float\", shape=[None, 784])\n",
      "tf.placeholder(\"float\", shape=[None, 10])\n",
      " placeholder(\"float\", shape=[None, 10])\n",
      "tf.reshape(x, [-1,28,28,1])\n",
      " reshape(x, [-1,28,28,1])\n",
      "tf.nn.relu(conv2d(x_image, W_conv1) + b_conv1)\n",
      " relu(conv2d(x_image, W_conv1) + b_conv1)\n",
      "tf.nn.relu(conv2d(h_pool1, W_conv2) + b_conv2)\n",
      " relu(conv2d(h_pool1, W_conv2) + b_conv2)\n",
      "tf.reshape(h_pool2, [-1, 7*7*64])\n",
      " reshape(h_pool2, [-1, 7*7*64])\n",
      "tf.nn.relu(tf.matmul(h_pool2_flat, W_fc1) + b_fc1)\n",
      " matmul(h_pool2_flat, W_fc1) + b_fc1)\n",
      "tf.placeholder(\"float\")\n",
      " placeholder(\"float\")\n",
      "tf.nn.dropout(h_fc1, keep_prob)\n",
      " dropout(h_fc1, keep_prob)\n",
      "tf.Variable(tf.zeros([784, 10]))\n",
      " zeros([784, 10]))\n",
      "tf.Variable(tf.zeros([10]))\n",
      " zeros([10]))\n",
      "tf.nn.softmax(tf.matmul(h_fc1_drop, W_fc2) + b_fc2)\n",
      " matmul(h_fc1_drop, W_fc2) + b_fc2)\n",
      "tf.nn.softmax(tf.matmul(x, W) + b)\n",
      " matmul(x, W) + b)\n",
      "tf.reduce_sum(y_*tf.log(y))\n",
      " log(y))\n",
      "tf.train.GradientDescentOptimizer(LEARNING_RATE).minimize(cross_entropy)\n",
      " minimize(cross_entropy)\n",
      "tf.train.AdamOptimizer(LEARNING_RATE).minimize(cross_entropy)\n",
      " minimize(cross_entropy)\n",
      "tf.equal(tf.argmax(y,1), tf.argmax(y_,1))\n",
      " argmax(y_,1))\n",
      "tf.reduce_mean(tf.cast(correct_prediction, \"float\"))\n",
      " cast(correct_prediction, \"float\"))\n",
      "tf.argmax(y,1)\n",
      " argmax(y,1)\n",
      "tf.initialize_all_variables()\n",
      " initialize_all_variables()\n",
      "tf.Session() as sess:\n",
      " Session() as sess:\n",
      "tf\n",
      "tf\n",
      "tf.truncated_normal(shape, stddev=00)\n",
      " truncated_normal(shape, stddev=00)\n",
      "tf.Variable(initial)\n",
      " Variable(initial)\n",
      "tf.constant(00, shape=shape)\n",
      " constant(00, shape=shape)\n",
      "tf.Variable(initial)\n",
      " Variable(initial)\n",
      "tf.nn.conv2d(x, W, strides=[1, 1, 1, 1], padding='SAME')\n",
      " conv2d(x, W, strides=[1, 1, 1, 1], padding='SAME')\n",
      "tf.nn.max_pool(x, ksize=[1, 2, 2, 1], strides=[1, 2, 2, 1], padding='SAME')\n",
      " max_pool(x, ksize=[1, 2, 2, 1], strides=[1, 2, 2, 1], padding='SAME')\n",
      "tf.placeholder(\"float\", shape=[None, 784])\n",
      " placeholder(\"float\", shape=[None, 784])\n",
      "tf.placeholder(\"float\", shape=[None, 10])\n",
      " placeholder(\"float\", shape=[None, 10])\n",
      "tf.reshape(x, [-1,28,28,1])\n",
      " reshape(x, [-1,28,28,1])\n",
      "tf.nn.relu(conv2d(x_image, W_conv1) + b_conv1)\n",
      " relu(conv2d(x_image, W_conv1) + b_conv1)\n",
      "tf.nn.relu(conv2d(h_pool1, W_conv2) + b_conv2)\n",
      " relu(conv2d(h_pool1, W_conv2) + b_conv2)\n",
      "tf.reshape(h_pool2, [-1, 7*7*64])\n",
      " reshape(h_pool2, [-1, 7*7*64])\n",
      "tf.nn.relu(tf.matmul(h_pool2_flat, W_fc1) + b_fc1)\n",
      " matmul(h_pool2_flat, W_fc1) + b_fc1)\n",
      "tf.placeholder(\"float\")\n",
      " placeholder(\"float\")\n",
      "tf.nn.dropout(h_fc1, keep_prob)\n",
      " dropout(h_fc1, keep_prob)\n",
      "tf.Variable(tf.zeros([784, 10]))\n",
      " zeros([784, 10]))\n",
      "tf.Variable(tf.zeros([10]))\n",
      " zeros([10]))\n",
      "tf.nn.softmax(tf.matmul(h_fc1_drop, W_fc2) + b_fc2)\n",
      " matmul(h_fc1_drop, W_fc2) + b_fc2)\n",
      "tf.nn.softmax(tf.matmul(x, W) + b)\n",
      " matmul(x, W) + b)\n",
      "tf.reduce_sum(y_*tf.log(y))\n",
      " log(y))\n",
      "tf.train.GradientDescentOptimizer(LEARNING_RATE).minimize(cross_entropy)\n",
      " minimize(cross_entropy)\n",
      "tf.train.AdamOptimizer(LEARNING_RATE).minimize(cross_entropy)\n",
      " minimize(cross_entropy)\n",
      "tf.equal(tf.argmax(y,1), tf.argmax(y_,1))\n",
      " argmax(y_,1))\n",
      "tf.reduce_mean(tf.cast(correct_prediction, \"float\"))\n",
      " cast(correct_prediction, \"float\"))\n",
      "tf.argmax(y,1)\n",
      " argmax(y,1)\n",
      "tf.initialize_all_variables()\n",
      " initialize_all_variables()\n",
      "tf.Session() as sess:\n",
      " Session() as sess:\n",
      "tf.placeholder(tf.float32, [None, 784])\n",
      " float32, [None, 784])\n",
      "tf.Variable(tf.zeros([784, 10]))\n",
      " zeros([784, 10]))\n",
      "tf.Variable(tf.zeros([10]))\n",
      " zeros([10]))\n",
      "tf.nn.softmax(tf.matmul(x, W) + b)\n",
      " matmul(x, W) + b)\n",
      "tf.placeholder(tf.float32, [None, 10])\n",
      " float32, [None, 10])\n",
      "tf.reduce_sum(y_*tf.log(y))\n",
      " log(y))\n",
      "tf.train.GradientDescentOptimizer(002).minimize(cross_entropy)\n",
      " minimize(cross_entropy)\n",
      "tf.initialize_all_variables()\n",
      " initialize_all_variables()\n",
      "tf.equal(tf.argmax(y, 1), tf.argmax(y_,1))\n",
      " argmax(y_,1))\n",
      "tf.reduce_mean(tf.cast(correct_prediction, \"float\"))\n",
      " cast(correct_prediction, \"float\"))\n",
      "tf.Session()\n",
      " Session()\n"
     ]
    }
   ],
   "source": [
    "methods = {}\n",
    "\n",
    "for i in range(25):#len(code_cell)):\n",
    "    code_cell = TF_codes['source'].values[i]\n",
    "#print(code_cell)\n",
    "    tf_calls = re.findall('tf.*', code_cell)\n",
    "    for t in tf_calls:\n",
    "        r1 = re.sub(\"[0-9]\\.[0-9]\", \"00\", t)\n",
    "        print(r1)\n",
    "        r2 = re.sub(\".*\\.\", \" \", r1)\n",
    "        print(r2)\n",
    "        m = re.split('\\(', r2, 1)[0]\n",
    "\n",
    "        if m in methods:\n",
    "            methods[m] += 1\n",
    "        else:\n",
    "            methods[m] = 1"
   ]
  },
  {
   "cell_type": "code",
   "execution_count": 146,
   "id": "ff052743",
   "metadata": {},
   "outputs": [
    {
     "data": {
      "text/plain": [
       "{' truncated_normal': 4,\n",
       " ' Variable': 6,\n",
       " ' constant': 4,\n",
       " ' conv2d': 3,\n",
       " ' max_pool': 3,\n",
       " ' placeholder': 9,\n",
       " ' reshape': 10,\n",
       " ' relu': 6,\n",
       " ' transpose': 2,\n",
       " ' matmul': 9,\n",
       " ' dropout': 3,\n",
       " ' log': 4,\n",
       " ' minimize': 6,\n",
       " ' argmax': 7,\n",
       " ' cast': 4,\n",
       " ' initialize_all_variables': 4,\n",
       " ' InteractiveSession': 1,\n",
       " 'tf': 2,\n",
       " ' zeros': 6,\n",
       " ' Session': 3,\n",
       " ' float32, [None, 784])': 1,\n",
       " ' float32, [None, 10])': 1}"
      ]
     },
     "execution_count": 146,
     "metadata": {},
     "output_type": "execute_result"
    }
   ],
   "source": [
    "methods"
   ]
  },
  {
   "cell_type": "code",
   "execution_count": 57,
   "id": "dfc30a63",
   "metadata": {},
   "outputs": [
    {
     "name": "stdout",
     "output_type": "stream",
     "text": [
      "tt= tf.dwdwd.yywdwd.oo.s( btf.f( tf.df.ff.jj( d1.0,2.2)))\n",
      "ttt= ['tf.dwdwd.yywdwd.oo.s', 'btf.f', 'tf.df.ff.jj', 'd1.0,2.2)))']\n",
      "['tf.dwdwd.yywdwd.oo.s', 'tf.f', 'tf.df.ff.jj']\n"
     ]
    }
   ],
   "source": [
    "t= 'tf.dwdwd.yywdwd.oo.s(btf.f(tf.df.ff.jj(d1.0,2.2)))'\n",
    "tt = re.sub('\\(','( ',t)\n",
    "ttt= re.split('\\(', t)\n",
    "#r1 = re.findall('tf.*\\(',t)\n",
    "r3 = re.findall(r'(tf\\.+[\\w\\.]+)\\(\\s',tt)\n",
    "#r1 = re.sub(\"[0-9]\\.[0-9]\", \"00\", t)\n",
    "#\n",
    "print('tt=',tt)\n",
    "print('ttt=',ttt)\n",
    "print(r3)"
   ]
  },
  {
   "cell_type": "code",
   "execution_count": 163,
   "id": "9042119d",
   "metadata": {},
   "outputs": [
    {
     "ename": "TypeError",
     "evalue": "expected string or bytes-like object",
     "output_type": "error",
     "traceback": [
      "\u001b[1;31m---------------------------------------------------------------------------\u001b[0m",
      "\u001b[1;31mTypeError\u001b[0m                                 Traceback (most recent call last)",
      "\u001b[1;32m<ipython-input-163-b6d8d5dc2ee9>\u001b[0m in \u001b[0;36m<module>\u001b[1;34m\u001b[0m\n\u001b[1;32m----> 1\u001b[1;33m \u001b[0mr2\u001b[0m \u001b[1;33m=\u001b[0m \u001b[0mre\u001b[0m\u001b[1;33m.\u001b[0m\u001b[0msub\u001b[0m\u001b[1;33m(\u001b[0m\u001b[1;34m\".*\\.[a-z]\\(\"\u001b[0m\u001b[1;33m,\u001b[0m \u001b[1;34m\" \"\u001b[0m\u001b[1;33m,\u001b[0m \u001b[0mr1\u001b[0m\u001b[1;33m)\u001b[0m\u001b[1;33m\u001b[0m\u001b[1;33m\u001b[0m\u001b[0m\n\u001b[0m\u001b[0;32m      2\u001b[0m \u001b[0mprint\u001b[0m\u001b[1;33m(\u001b[0m\u001b[0mr2\u001b[0m\u001b[1;33m)\u001b[0m\u001b[1;33m\u001b[0m\u001b[1;33m\u001b[0m\u001b[0m\n\u001b[0;32m      3\u001b[0m \u001b[1;31m#m = re.split('\\(', r2, 1)[0]\u001b[0m\u001b[1;33m\u001b[0m\u001b[1;33m\u001b[0m\u001b[1;33m\u001b[0m\u001b[0m\n",
      "\u001b[1;32mE:\\anaconda\\lib\\re.py\u001b[0m in \u001b[0;36msub\u001b[1;34m(pattern, repl, string, count, flags)\u001b[0m\n\u001b[0;32m    208\u001b[0m     \u001b[0ma\u001b[0m \u001b[0mcallable\u001b[0m\u001b[1;33m,\u001b[0m \u001b[0mit\u001b[0m\u001b[0;31m'\u001b[0m\u001b[0ms\u001b[0m \u001b[0mpassed\u001b[0m \u001b[0mthe\u001b[0m \u001b[0mMatch\u001b[0m \u001b[0mobject\u001b[0m \u001b[1;32mand\u001b[0m \u001b[0mmust\u001b[0m \u001b[1;32mreturn\u001b[0m\u001b[1;33m\u001b[0m\u001b[1;33m\u001b[0m\u001b[0m\n\u001b[0;32m    209\u001b[0m     a replacement string to be used.\"\"\"\n\u001b[1;32m--> 210\u001b[1;33m     \u001b[1;32mreturn\u001b[0m \u001b[0m_compile\u001b[0m\u001b[1;33m(\u001b[0m\u001b[0mpattern\u001b[0m\u001b[1;33m,\u001b[0m \u001b[0mflags\u001b[0m\u001b[1;33m)\u001b[0m\u001b[1;33m.\u001b[0m\u001b[0msub\u001b[0m\u001b[1;33m(\u001b[0m\u001b[0mrepl\u001b[0m\u001b[1;33m,\u001b[0m \u001b[0mstring\u001b[0m\u001b[1;33m,\u001b[0m \u001b[0mcount\u001b[0m\u001b[1;33m)\u001b[0m\u001b[1;33m\u001b[0m\u001b[1;33m\u001b[0m\u001b[0m\n\u001b[0m\u001b[0;32m    211\u001b[0m \u001b[1;33m\u001b[0m\u001b[0m\n\u001b[0;32m    212\u001b[0m \u001b[1;32mdef\u001b[0m \u001b[0msubn\u001b[0m\u001b[1;33m(\u001b[0m\u001b[0mpattern\u001b[0m\u001b[1;33m,\u001b[0m \u001b[0mrepl\u001b[0m\u001b[1;33m,\u001b[0m \u001b[0mstring\u001b[0m\u001b[1;33m,\u001b[0m \u001b[0mcount\u001b[0m\u001b[1;33m=\u001b[0m\u001b[1;36m0\u001b[0m\u001b[1;33m,\u001b[0m \u001b[0mflags\u001b[0m\u001b[1;33m=\u001b[0m\u001b[1;36m0\u001b[0m\u001b[1;33m)\u001b[0m\u001b[1;33m:\u001b[0m\u001b[1;33m\u001b[0m\u001b[1;33m\u001b[0m\u001b[0m\n",
      "\u001b[1;31mTypeError\u001b[0m: expected string or bytes-like object"
     ]
    }
   ],
   "source": [
    "r2 = re.sub(\".*\\.[a-z]\\(\", \" \", r1)\n",
    "print(r2)\n",
    "#m = re.split('\\(', r2, 1)[0]"
   ]
  },
  {
   "cell_type": "code",
   "execution_count": null,
   "id": "8522159c",
   "metadata": {},
   "outputs": [],
   "source": []
  }
 ],
 "metadata": {
  "kernelspec": {
   "display_name": "Python 3",
   "language": "python",
   "name": "python3"
  },
  "language_info": {
   "codemirror_mode": {
    "name": "ipython",
    "version": 3
   },
   "file_extension": ".py",
   "mimetype": "text/x-python",
   "name": "python",
   "nbconvert_exporter": "python",
   "pygments_lexer": "ipython3",
   "version": "3.8.8"
  }
 },
 "nbformat": 4,
 "nbformat_minor": 5
}
